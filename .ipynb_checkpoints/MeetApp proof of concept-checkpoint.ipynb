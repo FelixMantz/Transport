{
 "cells": [
  {
   "cell_type": "code",
   "execution_count": null,
   "metadata": {},
   "outputs": [],
   "source": [
    "# Proof of concep inputs: 3 locations, their selected mode of transport, type of place to find\n",
    "# Future inputs: allow multiple modes of transport for each location\n",
    "# future inputs: set a target location where you want to meet up close to\n",
    "\n",
    "\n",
    "\n",
    "\n",
    "\n"
   ]
  },
  {
   "cell_type": "code",
   "execution_count": null,
   "metadata": {},
   "outputs": [],
   "source": [
    "# Proof of concept algorithm:\n",
    "# 1.Find places to test: \n",
    "# 1.a. determine mid point between 3 locations\n",
    "# 1.b. determine points 1/3rd towards each location from the middle\n",
    "# 2. find a place near each of the points\n",
    "# 3. determine travel time to each of those points\n",
    "# 4. if one of the 1/3rd points is faster, use as new mid-point and restart from 1.b.\n",
    "# 5. once optimised, get 3 places that satisfy the criteria and display them with the travel time for each location\n",
    "\n",
    "\n",
    "\n",
    "\n",
    "# future algo: expand for n locations\n",
    "# future algo: test for places outside of the starting locations\n",
    "# future algo: minimise square root of travel times\n",
    "# future algo: minimise total travel time\n",
    "# future algo: try different ways to optimise locations\n",
    "#              e.g. bisecting rather than 1/3rds, or moving towards the location with longest travel time to the mid-point"
   ]
  }
 ],
 "metadata": {
  "kernelspec": {
   "display_name": "Python 3",
   "language": "python",
   "name": "python3"
  },
  "language_info": {
   "codemirror_mode": {
    "name": "ipython",
    "version": 3
   },
   "file_extension": ".py",
   "mimetype": "text/x-python",
   "name": "python",
   "nbconvert_exporter": "python",
   "pygments_lexer": "ipython3",
   "version": "3.8.5"
  }
 },
 "nbformat": 4,
 "nbformat_minor": 4
}
